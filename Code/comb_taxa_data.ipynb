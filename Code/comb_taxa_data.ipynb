{
 "cells": [
  {
   "cell_type": "markdown",
   "id": "bbec989f",
   "metadata": {},
   "source": [
    "# Combine output from metaphiler / kraken with sample IDs and metadata"
   ]
  },
  {
   "cell_type": "markdown",
   "id": "f0f83e59",
   "metadata": {
    "vscode": {
     "languageId": "plaintext"
    }
   },
   "source": [
    "Import Datasets"
   ]
  },
  {
   "cell_type": "code",
   "execution_count": 6,
   "id": "6d8bfadd",
   "metadata": {},
   "outputs": [],
   "source": [
    "import pandas as pd\n",
    "srr_to_samn = pd.read_csv(r\"C:\\Users\\JedSh\\OneDrive\\Documents\\UMGC\\BIOT 670i\\BIOT670i---Project-5\\Code\\samn_srr_mapping.csv\")\n",
    "\n",
    "bracken_data = pd.read_csv(r\"C:\\Users\\JedSh\\OneDrive\\Documents\\UMGC\\BIOT 670i\\BIOT670i---Project-5\\Code\\bracken_genus_matrix.tsv\" , sep='\\t')\n",
    "\n",
    "samn_to_sampleid = pd.read_csv(r\"C:\\Users\\JedSh\\OneDrive\\Documents\\UMGC\\BIOT 670i\\BIOT670i---Project-5\\Code\\biosample_parsed.csv\")\n",
    "\n",
    "sample_metadata = pd.read_csv(r\"C:\\Users\\JedSh\\OneDrive\\Documents\\UMGC\\BIOT 670i\\BIOT670i---Project-5\\Code\\Cleaned_TableS09_Sample_Metadata_withDay.csv\")\n",
    "\n",
    "logcfu_data = pd.read_csv(r\"C:\\Users\\JedSh\\OneDrive\\Documents\\UMGC\\BIOT 670i\\BIOT670i---Project-5\\Data\\Supplemental Files\\RDL_TableS05_Total_mesophilic_aerobic_flora_Data_V2.csv\")\n"
   ]
  },
  {
   "cell_type": "markdown",
   "id": "a125a2be",
   "metadata": {},
   "source": [
    "Merge data"
   ]
  },
  {
   "cell_type": "code",
   "execution_count": null,
   "id": "e73914fc",
   "metadata": {},
   "outputs": [
    {
     "name": "stdout",
     "output_type": "stream",
     "text": [
      "name      SRR_ID AAP99 Abditibacterium Abiotrophia Acetitomaculum Acetivibrio  \\\n",
      "0     SRR8594323   0.0             0.0         0.0            0.0         0.0   \n",
      "1     SRR8594324   0.0             0.0        53.0            0.0         0.0   \n",
      "2     SRR8594325   0.0             0.0         0.0            0.0         0.0   \n",
      "3     SRR8594326   0.0             0.0        13.0            0.0         0.0   \n",
      "4     SRR8594327   0.0             0.0         0.0            0.0         0.0   \n",
      "..           ...   ...             ...         ...            ...         ...   \n",
      "431   SRR8594754   0.0             0.0         0.0            0.0         0.0   \n",
      "432   SRR8594755   0.0             0.0        15.0            0.0         0.0   \n",
      "433   SRR8594756   0.0             0.0        32.0            0.0         0.0   \n",
      "434   SRR8594757   0.0             0.0        14.0            0.0         0.0   \n",
      "435   SRR8594758   0.0             0.0         0.0            0.0         0.0   \n",
      "\n",
      "name Acetobacter Acholeplasma Achromobacter Acinetobacter  ... Yaniella  \\\n",
      "0            0.0          0.0           0.0         662.0  ...      0.0   \n",
      "1            0.0          0.0           0.0        1109.0  ...      0.0   \n",
      "2            0.0          0.0           0.0          73.0  ...      0.0   \n",
      "3            0.0          0.0           0.0          83.0  ...      0.0   \n",
      "4            0.0          0.0           0.0          91.0  ...      0.0   \n",
      "..           ...          ...           ...           ...  ...      ...   \n",
      "431          0.0          0.0           0.0        1543.0  ...      0.0   \n",
      "432          0.0          0.0           0.0        3203.0  ...      0.0   \n",
      "433          0.0          0.0           0.0         638.0  ...      0.0   \n",
      "434          0.0          0.0           0.0        4140.0  ...      0.0   \n",
      "435          0.0          0.0           0.0         287.0  ...      0.0   \n",
      "\n",
      "name Yersinia Yokenella ZOR0006 [Agitococcus] lubricus group  \\\n",
      "0        26.0       0.0     0.0                          0.0   \n",
      "1       204.0       0.0     0.0                          0.0   \n",
      "2         0.0       0.0     0.0                          0.0   \n",
      "3         0.0       0.0     0.0                          0.0   \n",
      "4       160.0       0.0     0.0                          0.0   \n",
      "..        ...       ...     ...                          ...   \n",
      "431      56.0       0.0     0.0                          0.0   \n",
      "432       0.0       0.0     0.0                          0.0   \n",
      "433      30.0       0.0     0.0                          0.0   \n",
      "434     137.0       0.0     0.0                          0.0   \n",
      "435      97.0       0.0     0.0                          0.0   \n",
      "\n",
      "name [Clostridium] innocuum group [Ruminococcus] gauvreauii group  \\\n",
      "0                             0.0                             0.0   \n",
      "1                             0.0                             0.0   \n",
      "2                            17.0                             0.0   \n",
      "3                             0.0                             0.0   \n",
      "4                             0.0                             0.0   \n",
      "..                            ...                             ...   \n",
      "431                           0.0                             0.0   \n",
      "432                           0.0                             0.0   \n",
      "433                           0.0                             0.0   \n",
      "434                           0.0                             0.0   \n",
      "435                           0.0                             0.0   \n",
      "\n",
      "name [Ruminococcus] torques group endosymbionts uncultured  \n",
      "0                             0.0           0.0        0.0  \n",
      "1                             0.0           0.0       16.0  \n",
      "2                             0.0           0.0       41.0  \n",
      "3                             0.0           0.0       11.0  \n",
      "4                             0.0           0.0       64.5  \n",
      "..                            ...           ...        ...  \n",
      "431                           0.0           0.0        0.0  \n",
      "432                           0.0           0.0       37.0  \n",
      "433                           0.0           0.0       14.0  \n",
      "434                           0.0           0.0       36.0  \n",
      "435                           0.0           0.0        0.0  \n",
      "\n",
      "[436 rows x 413 columns]\n"
     ]
    }
   ],
   "source": [
    "samn_to_sampleid\n",
    "\n",
    "# This joins df1 and df2 where 'ID_A' in df1 matches 'Identifier_B' in df2\n",
    "merged_df = pd.merge(samn_to_sampleid, srr_to_samn, left_on='BioSampleAccession', right_on='SAMN_ID', how='inner')\n",
    "\n",
    "merged_df = pd.merge(merged_df, sample_metadata, left_on='SampleID', right_on='Sample_Name', how='inner')\n",
    "\n",
    "merged_df = pd.merge(merged_df, logcfu_data, left_on='SampleID', right_on='Sample_Name', how='inner')\n",
    "\n",
    "# Metadata columns to keep\n",
    "keep_cols = ['SAMN_ID', 'SRR_ID', \"Sample_Name_y\", \"EnvType\", \"Day_numeric\", \"SamplingTime\", \"Total mesophilic aerobic flora (log10 CFU.g-1)\"]\n",
    "\n",
    "# Filter metadata by the columns we want to keep\n",
    "merged_df =  merged_df[keep_cols]\n",
    "\n",
    "# display(merged_df)\n",
    "\n",
    "# Transpose the Bracken Data\n",
    "bracken_t = bracken_data.transpose()\n",
    "\n",
    "# Fix transposed bracken data header / column names\n",
    "header = bracken_t.iloc[0]  # Grab the first row for the new header\n",
    "bracken_t = bracken_t[1:]  # Take the data part, which is everything but the first row\n",
    "bracken_t.columns = header  # Set the header row as the new column names\n",
    "\n",
    "# Fix index\n",
    "bracken_t = bracken_t.reset_index(names=['SRR_ID'])\n",
    "\n",
    "# Merge bracken data onto metadata\n",
    "merged_df = pd.merge(merged_df, bracken_t, left_on='SRR_ID', right_on='SRR_ID', how='inner')\n"
   ]
  },
  {
   "cell_type": "markdown",
   "id": "a5c2c6f0",
   "metadata": {},
   "source": [
    "Save Complete dataset"
   ]
  },
  {
   "cell_type": "code",
   "execution_count": 36,
   "id": "9e7f91cb",
   "metadata": {},
   "outputs": [],
   "source": [
    "merged_df.to_csv(\"fully_combined_project_data.csv\")"
   ]
  }
 ],
 "metadata": {
  "kernelspec": {
   "display_name": "env",
   "language": "python",
   "name": "python3"
  },
  "language_info": {
   "codemirror_mode": {
    "name": "ipython",
    "version": 3
   },
   "file_extension": ".py",
   "mimetype": "text/x-python",
   "name": "python",
   "nbconvert_exporter": "python",
   "pygments_lexer": "ipython3",
   "version": "3.11.9"
  }
 },
 "nbformat": 4,
 "nbformat_minor": 5
}
