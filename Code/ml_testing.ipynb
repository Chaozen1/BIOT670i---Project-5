{
 "cells": [
  {
   "cell_type": "code",
   "execution_count": 35,
   "id": "fcd7d8f5",
   "metadata": {},
   "outputs": [],
   "source": [
    "import pandas as pd\n",
    "import numpy as np\n",
    "import hyperopt as hp\n",
    "from sklearn.linear_model import LassoCV, ElasticNetCV\n",
    "from sklearn.model_selection import train_test_split\n",
    "\n",
    "from joblib import dump, load\n",
    "\n",
    "import json\n"
   ]
  },
  {
   "cell_type": "code",
   "execution_count": 28,
   "id": "fa773ca5",
   "metadata": {},
   "outputs": [
    {
     "data": {
      "text/html": [
       "<div>\n",
       "<style scoped>\n",
       "    .dataframe tbody tr th:only-of-type {\n",
       "        vertical-align: middle;\n",
       "    }\n",
       "\n",
       "    .dataframe tbody tr th {\n",
       "        vertical-align: top;\n",
       "    }\n",
       "\n",
       "    .dataframe thead th {\n",
       "        text-align: right;\n",
       "    }\n",
       "</style>\n",
       "<table border=\"1\" class=\"dataframe\">\n",
       "  <thead>\n",
       "    <tr style=\"text-align: right;\">\n",
       "      <th></th>\n",
       "      <th>Total mesophilic aerobic flora (log10 CFU.g-1)</th>\n",
       "      <th>earlyvlatespoilage</th>\n",
       "    </tr>\n",
       "  </thead>\n",
       "  <tbody>\n",
       "    <tr>\n",
       "      <th>0</th>\n",
       "      <td>6.00</td>\n",
       "      <td>0</td>\n",
       "    </tr>\n",
       "    <tr>\n",
       "      <th>1</th>\n",
       "      <td>5.90</td>\n",
       "      <td>0</td>\n",
       "    </tr>\n",
       "    <tr>\n",
       "      <th>2</th>\n",
       "      <td>6.11</td>\n",
       "      <td>0</td>\n",
       "    </tr>\n",
       "    <tr>\n",
       "      <th>3</th>\n",
       "      <td>8.44</td>\n",
       "      <td>1</td>\n",
       "    </tr>\n",
       "    <tr>\n",
       "      <th>4</th>\n",
       "      <td>8.44</td>\n",
       "      <td>1</td>\n",
       "    </tr>\n",
       "    <tr>\n",
       "      <th>...</th>\n",
       "      <td>...</td>\n",
       "      <td>...</td>\n",
       "    </tr>\n",
       "    <tr>\n",
       "      <th>430</th>\n",
       "      <td>8.11</td>\n",
       "      <td>1</td>\n",
       "    </tr>\n",
       "    <tr>\n",
       "      <th>431</th>\n",
       "      <td>8.32</td>\n",
       "      <td>1</td>\n",
       "    </tr>\n",
       "    <tr>\n",
       "      <th>432</th>\n",
       "      <td>8.81</td>\n",
       "      <td>1</td>\n",
       "    </tr>\n",
       "    <tr>\n",
       "      <th>433</th>\n",
       "      <td>8.64</td>\n",
       "      <td>1</td>\n",
       "    </tr>\n",
       "    <tr>\n",
       "      <th>434</th>\n",
       "      <td>8.15</td>\n",
       "      <td>1</td>\n",
       "    </tr>\n",
       "  </tbody>\n",
       "</table>\n",
       "<p>435 rows × 2 columns</p>\n",
       "</div>"
      ],
      "text/plain": [
       "     Total mesophilic aerobic flora (log10 CFU.g-1)  earlyvlatespoilage\n",
       "0                                              6.00                   0\n",
       "1                                              5.90                   0\n",
       "2                                              6.11                   0\n",
       "3                                              8.44                   1\n",
       "4                                              8.44                   1\n",
       "..                                              ...                 ...\n",
       "430                                            8.11                   1\n",
       "431                                            8.32                   1\n",
       "432                                            8.81                   1\n",
       "433                                            8.64                   1\n",
       "434                                            8.15                   1\n",
       "\n",
       "[435 rows x 2 columns]"
      ]
     },
     "metadata": {},
     "output_type": "display_data"
    }
   ],
   "source": [
    "spoilage_data = pd.read_csv(r\"fully_combined_project_data.csv\")\n",
    "\n",
    "# Create the mapping\n",
    "type_map = {'pork': 0, 'poultry': 1}\n",
    "spoilage_data['meat_type'] = spoilage_data['EnvType'].map(type_map)\n",
    "\n",
    "\n",
    "# Drop columns that contain nan values\n",
    "spoilage_data = spoilage_data.dropna(axis=1)\n",
    "\n",
    "# Select Columns that are numeric\n",
    "num_spoilage_data = spoilage_data.select_dtypes(include=np.number)\n",
    "\n",
    "num_spoilage_data['earlyvlatespoilage'] = (num_spoilage_data['Total mesophilic aerobic flora (log10 CFU.g-1)'] >= 7).astype(int)\n",
    "\n",
    "display(num_spoilage_data[['Total mesophilic aerobic flora (log10 CFU.g-1)', 'earlyvlatespoilage']])\n",
    "\n",
    "X = num_spoilage_data.drop(['earlyvlatespoilage', 'Total mesophilic aerobic flora (log10 CFU.g-1)'], axis=1)\n",
    "Y = num_spoilage_data['earlyvlatespoilage']\n",
    "\n",
    "X_train, X_test, y_train, y_test = train_test_split(X, Y, test_size=0.25 , random_state=100, shuffle=True)"
   ]
  },
  {
   "cell_type": "markdown",
   "id": "1dce092f",
   "metadata": {},
   "source": [
    "### Hyperparameter tuning code"
   ]
  },
  {
   "cell_type": "code",
   "execution_count": 29,
   "id": "438e90e4",
   "metadata": {},
   "outputs": [
    {
     "name": "stdout",
     "output_type": "stream",
     "text": [
      "100%|██████████| 100/100 [04:32<00:00,  2.72s/trial, best loss: 0.10149405825999751]\n",
      "Best hyperparameters found: {'l1_ratio': np.float64(0.00050350143288155), 'max_iter': np.float64(7000.0)}\n",
      "Minimum loss achieved: 0.10149405825999751\n"
     ]
    }
   ],
   "source": [
    "from hyperopt import fmin, tpe, hp, STATUS_OK, Trials\n",
    "\n",
    "import numpy as np\n",
    "\n",
    "# Define the objective function to minimize\n",
    "def objective(params):\n",
    "    model = ElasticNetCV(cv=10, l1_ratio=params['l1_ratio'], max_iter=int(params['max_iter']), random_state=0 ).fit(X, Y) #Using X Y because we are using cross validation\n",
    "\n",
    "\n",
    "    # Calculate the loss as the minimum of the mean MSE across all alpha values\n",
    "    loss = np.min(np.mean(model.mse_path_, axis=1))\n",
    "\n",
    "    return {'loss': loss, 'status': STATUS_OK}\n",
    "\n",
    "# Define the search space for hyperparameters\n",
    "space = {\n",
    "    'l1_ratio': hp.uniform('l1_ratio', 0.0, 1.0),  # Uniform distribution for x between -10 and 10\n",
    "    'max_iter': hp.quniform('max_iter', 1000, 10000, 1000)\n",
    "}\n",
    "\n",
    "# Run the optimization\n",
    "trials = Trials()  # Store results of the evaluations\n",
    "best = fmin(\n",
    "    fn=objective,\n",
    "    space=space,\n",
    "    algo=tpe.suggest,  # Tree-structured Parzen Estimator algorithm\n",
    "    max_evals=100,      # Number of evaluations to perform\n",
    "    trials=trials\n",
    ")\n",
    "\n",
    "print(\"Best hyperparameters found:\", best)\n",
    "print(\"Minimum loss achieved:\", trials.best_trial['result']['loss'])"
   ]
  },
  {
   "cell_type": "code",
   "execution_count": 30,
   "id": "11ec2b33",
   "metadata": {},
   "outputs": [
    {
     "name": "stdout",
     "output_type": "stream",
     "text": [
      "Optimal alpha: 34255.97397481037\n",
      "R-squared score on training data: 0.305\n"
     ]
    }
   ],
   "source": [
    "reg = ElasticNetCV(cv=10, l1_ratio=best['l1_ratio'], max_iter=int(best['max_iter']), random_state=0).fit(X, Y)\n",
    "\n",
    "print(f\"Optimal alpha: {reg.alpha_}\")\n",
    "print(f\"R-squared score on training data: {reg.score(X, Y):.3f}\")\n",
    "\n",
    "\n",
    "coefficients_df = pd.DataFrame({'Feature': X.columns, 'Coefficient': reg.coef_})"
   ]
  },
  {
   "cell_type": "code",
   "execution_count": 33,
   "id": "70edf9b4",
   "metadata": {},
   "outputs": [
    {
     "data": {
      "text/html": [
       "<div>\n",
       "<style scoped>\n",
       "    .dataframe tbody tr th:only-of-type {\n",
       "        vertical-align: middle;\n",
       "    }\n",
       "\n",
       "    .dataframe tbody tr th {\n",
       "        vertical-align: top;\n",
       "    }\n",
       "\n",
       "    .dataframe thead th {\n",
       "        text-align: right;\n",
       "    }\n",
       "</style>\n",
       "<table border=\"1\" class=\"dataframe\">\n",
       "  <thead>\n",
       "    <tr style=\"text-align: right;\">\n",
       "      <th></th>\n",
       "      <th>Feature</th>\n",
       "      <th>Coefficient</th>\n",
       "    </tr>\n",
       "  </thead>\n",
       "  <tbody>\n",
       "    <tr>\n",
       "      <th>351</th>\n",
       "      <td>Shewanella</td>\n",
       "      <td>0.000019</td>\n",
       "    </tr>\n",
       "    <tr>\n",
       "      <th>208</th>\n",
       "      <td>Lactococcus</td>\n",
       "      <td>0.000014</td>\n",
       "    </tr>\n",
       "    <tr>\n",
       "      <th>392</th>\n",
       "      <td>Vagococcus</td>\n",
       "      <td>0.000012</td>\n",
       "    </tr>\n",
       "    <tr>\n",
       "      <th>206</th>\n",
       "      <td>Lactiplantibacillus</td>\n",
       "      <td>0.000012</td>\n",
       "    </tr>\n",
       "    <tr>\n",
       "      <th>204</th>\n",
       "      <td>Lacticaseibacillus</td>\n",
       "      <td>0.000009</td>\n",
       "    </tr>\n",
       "    <tr>\n",
       "      <th>...</th>\n",
       "      <td>...</td>\n",
       "      <td>...</td>\n",
       "    </tr>\n",
       "    <tr>\n",
       "      <th>249</th>\n",
       "      <td>Morganella</td>\n",
       "      <td>-0.000008</td>\n",
       "    </tr>\n",
       "    <tr>\n",
       "      <th>344</th>\n",
       "      <td>Salinivibrio</td>\n",
       "      <td>-0.000010</td>\n",
       "    </tr>\n",
       "    <tr>\n",
       "      <th>287</th>\n",
       "      <td>Peptostreptococcus</td>\n",
       "      <td>-0.000018</td>\n",
       "    </tr>\n",
       "    <tr>\n",
       "      <th>53</th>\n",
       "      <td>Bacillus</td>\n",
       "      <td>-0.000023</td>\n",
       "    </tr>\n",
       "    <tr>\n",
       "      <th>9</th>\n",
       "      <td>Acinetobacter</td>\n",
       "      <td>-0.000041</td>\n",
       "    </tr>\n",
       "  </tbody>\n",
       "</table>\n",
       "<p>413 rows × 2 columns</p>\n",
       "</div>"
      ],
      "text/plain": [
       "                 Feature  Coefficient\n",
       "351           Shewanella     0.000019\n",
       "208          Lactococcus     0.000014\n",
       "392           Vagococcus     0.000012\n",
       "206  Lactiplantibacillus     0.000012\n",
       "204   Lacticaseibacillus     0.000009\n",
       "..                   ...          ...\n",
       "249           Morganella    -0.000008\n",
       "344         Salinivibrio    -0.000010\n",
       "287   Peptostreptococcus    -0.000018\n",
       "53              Bacillus    -0.000023\n",
       "9          Acinetobacter    -0.000041\n",
       "\n",
       "[413 rows x 2 columns]"
      ]
     },
     "metadata": {},
     "output_type": "display_data"
    }
   ],
   "source": [
    "coefficients_df = pd.DataFrame({'Feature': X.columns, 'Coefficient': reg.coef_})\n",
    "\n",
    "display(coefficients_df.sort_values(by='Coefficient', ascending=False))\n",
    "coefficients_df.to_csv(\"elasticnet_coeffs.csv\")"
   ]
  },
  {
   "cell_type": "markdown",
   "id": "24eb97b4",
   "metadata": {},
   "source": [
    "save model"
   ]
  },
  {
   "cell_type": "code",
   "execution_count": 27,
   "id": "d845f6c6",
   "metadata": {},
   "outputs": [
    {
     "name": "stdout",
     "output_type": "stream",
     "text": [
      "Index(['Unnamed: 0', 'Total mesophilic aerobic flora (log10 CFU.g-1)', 'AAP99',\n",
      "       'Abditibacterium', 'Abiotrophia', 'Acetitomaculum', 'Acetivibrio',\n",
      "       'Acetobacter', 'Acholeplasma', 'Achromobacter',\n",
      "       ...\n",
      "       'Yaniella', 'Yersinia', 'Yokenella', 'ZOR0006',\n",
      "       '[Agitococcus] lubricus group', '[Clostridium] innocuum group',\n",
      "       '[Ruminococcus] gauvreauii group', '[Ruminococcus] torques group',\n",
      "       'endosymbionts', 'uncultured'],\n",
      "      dtype='object', length=414)\n"
     ]
    }
   ],
   "source": [
    "print(X.columns)"
   ]
  },
  {
   "cell_type": "code",
   "execution_count": null,
   "id": "30c6e33c",
   "metadata": {},
   "outputs": [
    {
     "data": {
      "text/plain": [
       "['elasticnetCV_tuned.joblib']"
      ]
     },
     "execution_count": 32,
     "metadata": {},
     "output_type": "execute_result"
    }
   ],
   "source": [
    "\n",
    "\n",
    "# Save the model\n",
    "filename = \"elasticnetCV_tuned.joblib\"\n",
    "dump(reg, filename)"
   ]
  },
  {
   "cell_type": "code",
   "execution_count": 37,
   "id": "e37c4db6",
   "metadata": {},
   "outputs": [
    {
     "name": "stdout",
     "output_type": "stream",
     "text": [
      "Creating model_meta.json...\n",
      "Successfully created model_meta.json\n"
     ]
    }
   ],
   "source": [
    "\n",
    "# 3. <<< ADD THIS BLOCK TO CREATE THE JSON FILE >>>\n",
    "print(\"Creating model_meta.json...\")\n",
    "meta_data = {\n",
    "    # This line gets the exact column names from the 'X' DataFrame you used to train\n",
    "    \"feature_names\": list(X.columns), \n",
    "    \n",
    "    # This is just other info the app was using; 7.0 is a good default\n",
    "    \"threshold_cfu\": 7.0 \n",
    "}\n",
    "\n",
    "# This writes the data to a new file named \"model_meta.json\"\n",
    "with open(\"model_meta.json\", \"w\") as f:\n",
    "    json.dump(meta_data, f, indent=2)\n",
    "\n",
    "print(\"Successfully created model_meta.json\")"
   ]
  }
 ],
 "metadata": {
  "kernelspec": {
   "display_name": "env",
   "language": "python",
   "name": "python3"
  },
  "language_info": {
   "codemirror_mode": {
    "name": "ipython",
    "version": 3
   },
   "file_extension": ".py",
   "mimetype": "text/x-python",
   "name": "python",
   "nbconvert_exporter": "python",
   "pygments_lexer": "ipython3",
   "version": "3.11.9"
  }
 },
 "nbformat": 4,
 "nbformat_minor": 5
}
